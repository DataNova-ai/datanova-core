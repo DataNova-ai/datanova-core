{
  "nbformat": 4,
  "nbformat_minor": 0,
  "metadata": {
    "colab": {
      "provenance": [],
      "mount_file_id": "1nHUErAlxN7wPSe82wJRtQRTaApB5LGcF",
      "authorship_tag": "ABX9TyPPLlyGJEouA6ttUEnAXKqx",
      "include_colab_link": true
    },
    "kernelspec": {
      "name": "python3",
      "display_name": "Python 3"
    },
    "language_info": {
      "name": "python"
    }
  },
  "cells": [
    {
      "cell_type": "markdown",
      "metadata": {
        "id": "view-in-github",
        "colab_type": "text"
      },
      "source": [
        "<a href=\"https://colab.research.google.com/github/DataNova-ai/datanova-core/blob/main/BasedeDatosClientes.ipynb\" target=\"_parent\"><img src=\"https://colab.research.google.com/assets/colab-badge.svg\" alt=\"Open In Colab\"/></a>"
      ]
    },
    {
      "cell_type": "code",
      "source": [
        "import pandas as pd\n",
        "import os\n",
        "\n",
        "def cargar_archivo(path_archivo):\n",
        "    extension = os.path.splitext(path_archivo)[1].lower()\n",
        "\n",
        "    if extension == '.csv':\n",
        "        df = pd.read_csv(path_archivo)\n",
        "    elif extension in ['.xls', '.xlsx']:\n",
        "        df = pd.read_excel(path_archivo)\n",
        "    elif extension == '.txt':\n",
        "        df = pd.read_csv(path_archivo, delimiter='\\t')  # ajustar según el delimitador\n",
        "    elif extension == '.json':\n",
        "        df = pd.read_json(path_archivo)\n",
        "    else:\n",
        "        raise ValueError(f\"Formato no soportado: {extension}\")\n",
        "\n",
        "    print(f\"Archivo cargado correctamente: {path_archivo}\")\n",
        "    return df\n",
        "\n",
        "# Uso:\n",
        "# 1. Monta Google Drive:\n",
        "from google.colab import drive\n",
        "drive.mount('/content/drive')\n",
        "\n",
        "# 2. Proporciona la ruta:\n",
        "# archivo = '/content/drive/MyDrive/CarpetaCliente/datos.csv'\n",
        "# df = cargar_archivo(archivo)\n"
      ],
      "metadata": {
        "colab": {
          "base_uri": "https://localhost:8080/"
        },
        "id": "Xs6lgiqMbNtu",
        "outputId": "d2597b06-3a3f-449d-eb6c-f93f7d7ecff3"
      },
      "execution_count": 1,
      "outputs": [
        {
          "output_type": "stream",
          "name": "stdout",
          "text": [
            "Drive already mounted at /content/drive; to attempt to forcibly remount, call drive.mount(\"/content/drive\", force_remount=True).\n"
          ]
        }
      ]
    },
    {
      "cell_type": "code",
      "source": [
        "from pathlib import Path\n",
        "\n",
        "# Ruta base de Google Drive\n",
        "base_path = Path('/content/drive/MyDrive')\n",
        "\n",
        "# Explora hasta 2 niveles dentro de tu Drive\n",
        "for path in base_path.rglob('*'):\n",
        "    print(path)\n"
      ],
      "metadata": {
        "colab": {
          "base_uri": "https://localhost:8080/"
        },
        "id": "gIN_2I82gg42",
        "outputId": "060705ee-5d00-4cd5-cc11-29c450be9b78"
      },
      "execution_count": 7,
      "outputs": [
        {
          "output_type": "stream",
          "name": "stdout",
          "text": [
            "/content/drive/MyDrive/Colab Notebooks\n",
            "/content/drive/MyDrive/Solicitud de Análisis de Datos – DataNova (respuestas).gsheet\n",
            "/content/drive/MyDrive/Solicitud de Análisis de Datos – DataNova (File responses)\n",
            "/content/drive/MyDrive/Solicitud de Análisis de Datos – DataNova.gform\n",
            "/content/drive/MyDrive/Colab Notebooks/BasedeDatosClientes.ipynb\n",
            "/content/drive/MyDrive/Solicitud de Análisis de Datos – DataNova (File responses)/Cargar Archivo (File responses)\n",
            "/content/drive/MyDrive/Solicitud de Análisis de Datos – DataNova (File responses)/Cargar Archivo (File responses)/CSV Laboratorio 2 AD-B - Jassan Arteta.csv\n"
          ]
        }
      ]
    },
    {
      "cell_type": "code",
      "source": [
        "from pathlib import Path\n",
        "\n",
        "carpeta = Path('/content/drive/MyDrive')\n",
        "\n",
        "# Buscar todos los archivos CSV en cualquier subcarpeta\n",
        "for path in carpeta.rglob('*.csv'):\n",
        "    print(path)\n"
      ],
      "metadata": {
        "colab": {
          "base_uri": "https://localhost:8080/"
        },
        "id": "0j-OFcsIhSiE",
        "outputId": "f006016c-f1e7-4f4f-9f9e-85538d3e8c26"
      },
      "execution_count": 12,
      "outputs": [
        {
          "output_type": "stream",
          "name": "stdout",
          "text": [
            "/content/drive/MyDrive/Solicitud de Análisis de Datos – DataNova (File responses)/Cargar Archivo (File responses)/CSV Laboratorio 2 AD-B - Jassan Arteta.csv\n"
          ]
        }
      ]
    },
    {
      "cell_type": "code",
      "source": [
        "from pathlib import Path\n",
        "\n",
        "# Buscar automáticamente el archivo CSV en toda tu unidad de Drive\n",
        "base_path = Path('/content/drive/MyDrive')\n",
        "csv_files = list(base_path.rglob('*.csv'))\n",
        "\n",
        "# Mostrar todos los CSV encontrados\n",
        "for i, file in enumerate(csv_files):\n",
        "    print(f\"[{i}] {file}\")\n",
        "\n",
        "# Elegir el archivo correcto según el índice (ajusta este número según lo que veas arriba)\n",
        "archivo = csv_files[0]  # cambia el índice si el archivo correcto está en otra posición\n",
        "\n",
        "# Cargar el archivo\n",
        "df = cargar_archivo(str(archivo))\n"
      ],
      "metadata": {
        "colab": {
          "base_uri": "https://localhost:8080/"
        },
        "id": "TJuef4MKhwak",
        "outputId": "317e258c-51de-4402-a494-473e1ccf5a13"
      },
      "execution_count": 14,
      "outputs": [
        {
          "output_type": "stream",
          "name": "stdout",
          "text": [
            "[0] /content/drive/MyDrive/Solicitud de Análisis de Datos – DataNova (File responses)/Cargar Archivo (File responses)/CSV Laboratorio 2 AD-B - Jassan Arteta.csv\n",
            "\n",
            "✅ Archivo cargado correctamente: /content/drive/MyDrive/Solicitud de Análisis de Datos – DataNova (File responses)/Cargar Archivo (File responses)/CSV Laboratorio 2 AD-B - Jassan Arteta.csv\n",
            "🔍 Vista previa:\n",
            "  Producto      Mes Sucursal  Precio_unitario  Cantidad_vendida\n",
            "0        A    Enero    Norte            15.24                45\n",
            "1        A    Enero      Sur            92.37                11\n",
            "2        A    Enero     Este            49.81                29\n",
            "3        A    Enero    Oeste            31.58                36\n",
            "4        A  Febrero    Norte            18.45                25\n"
          ]
        }
      ]
    }
  ]
}